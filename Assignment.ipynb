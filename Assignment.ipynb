

for e in range(30):
    print("*", end="")
print("marksheet", end="")
for e in range(30):
    print("*", end="")

subjects = []
marks = []
total_marks_per_subject = []

no_of_subjects = int(input("\nEnter number of subjects "))
for i in range (no_of_subjects):
    
    sub = input("Enter subject ")
    subjects.append(sub)
    
    mark = int(input(" Enter gain marks (between 0-100) ")) #print(end = "")
    marks.append(mark)
    
    total_mark = int(input(" Out of "))
    total_marks_per_subject.append(total_mark) 

marks_gained = sum(marks)
total_marks = sum(total_marks_per_subject)

print("\n")
for c in range(35):
    print("*" ,end="")


print("\n%-25s %s" %("subjects", "marks"))
if(no_of_subjects >= 1):
    print("%-25s %s" %(subjects[0], marks[0]))
if(no_of_subjects >= 2):
    print("%-25s %s" %(subjects[1], marks[1]))
if(no_of_subjects >= 3):
    print("%-25s %s" %(subjects[2], marks[2]))
if(no_of_subjects >= 4):
    print("%-25s %s" %(subjects[3], marks[3]))
if(no_of_subjects >= 5):
    print("%-25s %s" %(subjects[4], marks[4]))
if(no_of_subjects >= 6):
    print("%-25s %s" %(subjects[5], marks[5]))
if(no_of_subjects >= 7):
    print("%-25s %s" %(subjects[6], marks[6]))
if(no_of_subjects >= 8):
    print("%-25s %s" %(subjects[7], marks[7]))
if(no_of_subjects >= 9):
    print("%-25s %s" %(subjects[8], marks[8]))
if(no_of_subjects >= 10):
    print("%-25s %s" %(subjects[9], marks[9]))
if(no_of_subjects >= 11):
    print("%-25s %s" %(subjects[10], marks[10]))
if(no_of_subjects >= 12):
    print("%-25s %s" %(subjects[11], marks[11]))
if(no_of_subjects >= 13):
    print("%-25s %s" %(subjects[12], marks[12]))

print("\n")   
for c in range(35):
    print("*" ,end="")
    



    
student = input("\nEnter student name ")
print("\nThe total marks obtained by " + student + " are ", end = "" )
print(marks_gained)

percentage = (marks_gained/total_marks)*100
print("\n" + student + " has got the percentage ", end = "" ) 
print(percentage, end="")

if percentage >= 80:
    print(" with grade A+", end ="")

elif percentage >= 70:
    print(" with grade A", end ="")

elif percentage >= 60:
    print(" with grade B", end ="")

elif percentage >= 50:
    print(" with grade C", end ="")

elif percentage >= 40:
    print(" with grade D", end ="")

elif percentage < 40:
    print(" and you arte fail ", end ="")



    


    
